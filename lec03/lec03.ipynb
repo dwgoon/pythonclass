{
 "cells": [
  {
   "cell_type": "markdown",
   "metadata": {},
   "source": [
    "# NumPy 행렬 다루기\n",
    "----\n",
    "**행렬의 곱**이나 **상미분방정식 풀이** 등의 기본적인 수치해석(numerical analysis)을 경험하기에 앞서, [NumPy](http://scipy.org/)를 이용하여 행렬을 다루는 기본적인 방법을 알아보자.\n"
   ]
  },
  {
   "cell_type": "code",
   "execution_count": 1,
   "metadata": {
    "collapsed": true
   },
   "outputs": [],
   "source": [
    "import numpy as np"
   ]
  },
  {
   "cell_type": "code",
   "execution_count": 2,
   "metadata": {
    "collapsed": false
   },
   "outputs": [
    {
     "name": "stdout",
     "output_type": "stream",
     "text": [
      "[0 1 2 3 4 5 6 7 8]\n"
     ]
    }
   ],
   "source": [
    "mat = np.arange(9)\n",
    "print mat"
   ]
  },
  {
   "cell_type": "code",
   "execution_count": 3,
   "metadata": {
    "collapsed": false
   },
   "outputs": [
    {
     "name": "stdout",
     "output_type": "stream",
     "text": [
      "[[0 1 2]\n",
      " [3 4 5]\n",
      " [6 7 8]]\n",
      "Help on built-in function reshape:\n",
      "\n",
      "reshape(...)\n",
      "    a.reshape(shape, order='C')\n",
      "    \n",
      "    Returns an array containing the same data with a new shape.\n",
      "    \n",
      "    Refer to `numpy.reshape` for full documentation.\n",
      "    \n",
      "    See Also\n",
      "    --------\n",
      "    numpy.reshape : equivalent function\n",
      "\n"
     ]
    }
   ],
   "source": [
    "mat = mat.reshape((3,3)) # 행을 기준으로 reshaping (reshaping in row-first)\n",
    "print mat\n",
    "help(mat.reshape)"
   ]
  },
  {
   "cell_type": "code",
   "execution_count": 4,
   "metadata": {
    "collapsed": false,
    "scrolled": true
   },
   "outputs": [
    {
     "name": "stdout",
     "output_type": "stream",
     "text": [
      "[1 2 3]\n"
     ]
    }
   ],
   "source": [
    "vec = np.arange(1, 4) # 벡터도 한번 만들어보자.\n",
    "print vec"
   ]
  },
  {
   "cell_type": "code",
   "execution_count": 5,
   "metadata": {
    "collapsed": false
   },
   "outputs": [
    {
     "name": "stdout",
     "output_type": "stream",
     "text": [
      "[ 8 26 44]\n"
     ]
    }
   ],
   "source": [
    "# 행렬과 벡터의 곱\n",
    "print np.dot(mat, vec) # NumPy의 dot 함수를 이용"
   ]
  },
  {
   "cell_type": "code",
   "execution_count": 6,
   "metadata": {
    "collapsed": false
   },
   "outputs": [
    {
     "name": "stdout",
     "output_type": "stream",
     "text": [
      "[ 8 26 44]\n"
     ]
    }
   ],
   "source": [
    "# 위와 같은 연산을 아래와 같이 할 수도 있다.\n",
    "print mat.dot(vec) # NumPy.ndarray 객체의 dot 함수를 이용"
   ]
  },
  {
   "cell_type": "markdown",
   "metadata": {
    "collapsed": false
   },
   "source": [
    "\n",
    "----\n",
    "NumPy의 ndarray 객체가 제공하는 [멤버함수](http://en.wikipedia.org/wiki/Method_%28computer_programming%29) (또는 메써드)에는 어떠한 것들이 있는지 살펴보기 원한다면 NumPy 공식문서를 참고하면 된다.\n",
    "\n",
    "NumPy.ndarray: http://docs.scipy.org/doc/numpy/reference/generated/numpy.ndarray.html\n",
    "\n",
    "다양한 멤버함수들 중에 기본적인 행렬 연산에 관련된 함수들을 쉽게 발견할 수 있다. 공식문서를 살펴보면서 자신에게 필요한 함수를 찾아서 사용하면 된다.\n",
    "\n",
    "----\n"
   ]
  },
  {
   "cell_type": "code",
   "execution_count": 7,
   "metadata": {
    "collapsed": false
   },
   "outputs": [
    {
     "name": "stdout",
     "output_type": "stream",
     "text": [
      "[[0 3 6]\n",
      " [1 4 7]\n",
      " [2 5 8]]\n"
     ]
    }
   ],
   "source": [
    "print mat.transpose() # 전치행렬 구하기 (matrix transposition)"
   ]
  },
  {
   "cell_type": "code",
   "execution_count": 8,
   "metadata": {
    "collapsed": false
   },
   "outputs": [
    {
     "name": "stdout",
     "output_type": "stream",
     "text": [
      "12\n"
     ]
    }
   ],
   "source": [
    "print mat.trace() # 대각합 (trace); 0 + 4 + 8 = 12\n",
    "assert(mat.trace() == (mat[0, 0] + mat[1, 1] + mat[2, 2]))"
   ]
  },
  {
   "cell_type": "code",
   "execution_count": 9,
   "metadata": {
    "collapsed": false,
    "scrolled": true
   },
   "outputs": [
    {
     "name": "stdout",
     "output_type": "stream",
     "text": [
      "[0 1 2 3 4 5 6 7 8]\n"
     ]
    }
   ],
   "source": [
    "print mat.ravel() # 행렬값을 선형 배열로 얻기"
   ]
  },
  {
   "cell_type": "code",
   "execution_count": 10,
   "metadata": {
    "collapsed": false
   },
   "outputs": [
    {
     "name": "stdout",
     "output_type": "stream",
     "text": [
      "36\n",
      "[ 9 12 15]\n",
      "[ 3 12 21]\n",
      "[ True  True  True]\n",
      "[ True  True  True]\n"
     ]
    }
   ],
   "source": [
    "print mat.sum() # 행렬의 모든 원소의 합\n",
    "print mat.sum(axis=0) # 열 기준으로 합\n",
    "print mat.sum(axis=1) # 행 기준으로 합\n",
    "\n",
    "# 검산\n",
    "print mat.sum(axis=0) == np.array([np.sum(mat[:, 0]), np.sum(mat[:, 1]), np.sum(mat[:, 2])])\n",
    "print mat.sum(axis=1) == np.array([np.sum(mat[0, :]), np.sum(mat[1, :]), np.sum(mat[2, :])])"
   ]
  },
  {
   "cell_type": "code",
   "execution_count": 11,
   "metadata": {
    "collapsed": false,
    "scrolled": true
   },
   "outputs": [
    {
     "name": "stdout",
     "output_type": "stream",
     "text": [
      "0\n",
      "[ 0 28 80]\n",
      "[  0  60 336]\n",
      "[ True  True  True]\n",
      "[ True  True  True]\n"
     ]
    }
   ],
   "source": [
    "print mat.prod() # 행렬의 모든 원소의 곱\n",
    "print mat.prod(axis=0) # 열 기준으로 곱\n",
    "print mat.prod(axis=1) # 행 기준으로 곱\n",
    "\n",
    "# 검산\n",
    "print mat.prod(axis=0) == np.array([np.prod(mat[:, 0]), np.prod(mat[:, 1]), np.prod(mat[:, 2])])\n",
    "print mat.prod(axis=1) == np.array([np.prod(mat[0, :]), np.prod(mat[1, :]), np.prod(mat[2, :])])"
   ]
  },
  {
   "cell_type": "code",
   "execution_count": 12,
   "metadata": {
    "collapsed": false
   },
   "outputs": [
    {
     "name": "stdout",
     "output_type": "stream",
     "text": [
      "[[1 2]\n",
      " [3 4]]\n",
      "-2.0\n",
      "-2\n"
     ]
    }
   ],
   "source": [
    "mat2 = np.array([[1, 2], [3, 4]])\n",
    "print mat2\n",
    "print np.linalg.det(mat2) # 행렬식(determinant) 구하기\n",
    "\n",
    "# 검산\n",
    "print mat2[0,0]*mat2[1,1] - mat2[0,1]*mat2[1,0] # det(2차원 행렬) = a*d - b*c\n",
    "assert( (np.abs(np.linalg.det(mat2) - np.float(mat2[0,0]*mat2[1,1] - mat2[0,1]*mat2[1,0])) < 1e-12).all() )"
   ]
  },
  {
   "cell_type": "code",
   "execution_count": 13,
   "metadata": {
    "collapsed": false,
    "scrolled": true
   },
   "outputs": [
    {
     "name": "stdout",
     "output_type": "stream",
     "text": [
      "Eigen values: [-0.37228132  5.37228132]\n",
      "Eigen vectors:\n",
      "[[-0.82456484 -0.41597356]\n",
      " [ 0.56576746 -0.90937671]]\n",
      "Check the solution:\n",
      "[[ 0.30697009 -2.23472698]\n",
      " [-0.21062466 -4.88542751]]\n",
      "eigen value * eigen vector #1: [ 0.30697009 -0.21062466]\n",
      "eigen value * eigen vector #2: [-2.23472698 -4.88542751]\n"
     ]
    }
   ],
   "source": [
    "w, v = np.linalg.eig(mat2) # 고유값 및 고유벡터(eigen value & vectors) 구하기\n",
    "print \"Eigen values:\", w\n",
    "print \"Eigen vectors:\"\n",
    "print v # Eigen vectors are given as column vectors\n",
    "\n",
    "# 검산\n",
    "print \"Check the solution:\"\n",
    "print mat2.dot(v)\n",
    "print \"eigen value * eigen vector #1:\", np.dot(w[0], v[:,0])\n",
    "print \"eigen value * eigen vector #2:\", np.dot(w[1], v[:,1])\n",
    "\n",
    "assert( (np.abs(mat2.dot(v) - w*v) < 1e-12).all() ) # w*v is element-wise multiplication of a vector and a matrix; "
   ]
  },
  {
   "cell_type": "markdown",
   "metadata": {},
   "source": [
    "----\n",
    "# 계산 결과 저장하기\n",
    "----\n",
    "어느 변수의 값을 바꿔가면서 계산한 결과를 저장하기 위해서는 계산하기 전에 어떤 형태로(i.e., 어떤 자료구조로) 저장할 것인가 미리 계획을 세울 필요가 있다. 변경할 변수의 범위나 계산 횟수 등을 용이하게 변경하기 위해서 나중에 변경될 여지가 있는 부분은 변수로 선언하여 조작하기 쉽게 코드를 작성하는 것이 좋다."
   ]
  },
  {
   "cell_type": "code",
   "execution_count": 14,
   "metadata": {
    "collapsed": false
   },
   "outputs": [],
   "source": [
    "num_vals = 100 # 100회의 계산\n",
    "param_a = 10**np.linspace(-1, 1, num_vals)\n",
    "\n",
    "res_arr = np.zeros((num_vals,1), dtype=np.double)\n",
    "\n",
    "x = 1.25\n",
    "for i in xrange(num_vals):\n",
    "    a = param_a[i]\n",
    "    res_arr[i] = np.exp(a*x) + a*x**2 + 10 # 아무렇게나 작성한 임의의 수식 \n",
    "    "
   ]
  },
  {
   "cell_type": "code",
   "execution_count": 15,
   "metadata": {
    "collapsed": false,
    "scrolled": true
   },
   "outputs": [
    {
     "data": {
      "image/png": "[encoded data removed]",
      "text/plain": [
       "<matplotlib.figure.Figure at 0x3e3f908>"
      ]
     },
     "metadata": {},
     "output_type": "display_data"
    }
   ],
   "source": [
    "%matplotlib inline\n",
    "from pylab import *\n",
    "figure()\n",
    "plot(np.log(param_a), res_arr)\n",
    "show()"
   ]
  },
  {
   "cell_type": "code",
   "execution_count": 16,
   "metadata": {
    "collapsed": false,
    "scrolled": false
   },
   "outputs": [
    {
     "name": "stdout",
     "output_type": "stream",
     "text": [
      "[[  1.12893985e+01]\n",
      " [  1.13036030e+01]\n",
      " [  1.13185272e+01]\n",
      " [  1.13342099e+01]\n",
      " [  1.13506922e+01]\n",
      " [  1.13680176e+01]\n",
      " [  1.13862326e+01]\n",
      " [  1.14053863e+01]\n",
      " [  1.14255310e+01]\n",
      " [  1.14467223e+01]\n",
      " [  1.14690193e+01]\n",
      " [  1.14924851e+01]\n",
      " [  1.15171870e+01]\n",
      " [  1.15431966e+01]\n",
      " [  1.15705906e+01]\n",
      " [  1.15994509e+01]\n",
      " [  1.16298650e+01]\n",
      " [  1.16619270e+01]\n",
      " [  1.16957374e+01]\n",
      " [  1.17314044e+01]\n",
      " [  1.17690442e+01]\n",
      " [  1.18087819e+01]\n",
      " [  1.18507522e+01]\n",
      " [  1.18951006e+01]\n",
      " [  1.19419843e+01]\n",
      " [  1.19915735e+01]\n",
      " [  1.20440528e+01]\n",
      " [  1.20996223e+01]\n",
      " [  1.21585000e+01]\n",
      " [  1.22209235e+01]\n",
      " [  1.22871518e+01]\n",
      " [  1.23574686e+01]\n",
      " [  1.24321847e+01]\n",
      " [  1.25116414e+01]\n",
      " [  1.25962147e+01]\n",
      " [  1.26863190e+01]\n",
      " [  1.27824130e+01]\n",
      " [  1.28850049e+01]\n",
      " [  1.29946598e+01]\n",
      " [  1.31120072e+01]\n",
      " [  1.32377508e+01]\n",
      " [  1.33726789e+01]\n",
      " [  1.35176776e+01]\n",
      " [  1.36737455e+01]\n",
      " [  1.38420123e+01]\n",
      " [  1.40237590e+01]\n",
      " [  1.42204440e+01]\n",
      " [  1.44337328e+01]\n",
      " [  1.46655344e+01]\n",
      " [  1.49180446e+01]\n",
      " [  1.51937991e+01]\n",
      " [  1.54957369e+01]\n",
      " [  1.58272783e+01]\n",
      " [  1.61924203e+01]\n",
      " [  1.65958530e+01]\n",
      " [  1.70431048e+01]\n",
      " [  1.75407205e+01]\n",
      " [  1.80964850e+01]\n",
      " [  1.87197019e+01]\n",
      " [  1.94215452e+01]\n",
      " [  2.02155034e+01]\n",
      " [  2.11179444e+01]\n",
      " [  2.21488383e+01]\n",
      " [  2.33326870e+01]\n",
      " [  2.46997267e+01]\n",
      " [  2.62874948e+01]\n",
      " [  2.81428822e+01]\n",
      " [  3.03248422e+01]\n",
      " [  3.29079880e+01]\n",
      " [  3.59874075e+01]\n",
      " [  3.96851540e+01]\n",
      " [  4.41590633e+01]\n",
      " [  4.96148298e+01]\n",
      " [  5.63226826e+01]\n",
      " [  6.46406153e+01]\n",
      " [  7.50470368e+01]\n",
      " [  8.81870968e+01]\n",
      " [  1.04939054e+02]\n",
      " [  1.26510329e+02]\n",
      " [  1.54577982e+02]\n",
      " [  1.91496441e+02]\n",
      " [  2.40608187e+02]\n",
      " [  3.06713978e+02]\n",
      " [  3.96793414e+02]\n",
      " [  5.21123429e+02]\n",
      " [  6.95037959e+02]\n",
      " [  9.41735386e+02]\n",
      " [  1.29682355e+03]\n",
      " [  1.81579063e+03]\n",
      " [  2.58648215e+03]\n",
      " [  3.75028690e+03]\n",
      " [  5.53873867e+03]\n",
      " [  8.33790311e+03]\n",
      " [  1.28037991e+04]\n",
      " [  2.00734211e+04]\n",
      " [  3.21585681e+04]\n",
      " [  5.26968144e+04]\n",
      " [  8.84160340e+04]\n",
      " [  1.52058345e+05]\n",
      " [  2.68362912e+05]]\n"
     ]
    }
   ],
   "source": [
    "print res_arr"
   ]
  }
 ],
 "metadata": {
  "kernelspec": {
   "display_name": "Python 2",
   "language": "python",
   "name": "python2"
  },
  "language_info": {
   "codemirror_mode": {
    "name": "ipython",
    "version": 2
   },
   "file_extension": ".py",
   "mimetype": "text/x-python",
   "name": "python",
   "nbconvert_exporter": "python",
   "pygments_lexer": "ipython2",
   "version": "2.7.7"
  }
 },
 "nbformat": 4,
 "nbformat_minor": 0
}
