{
 "cells": [
  {
   "cell_type": "markdown",
   "metadata": {},
   "source": [
    "# NumPy 사용법 기초\n",
    "----\n",
    "[NumPy](http://scipy.org/)는 Python의 과학기술계산(scientific/technical computing) 프로그래밍에서 빼놓을 수 없는 중요한 라이브러리이다. NumPy 자체로도 좋은 모듈이지만, NumPy가 중요한 이유는 다양한 과학기술계산용 Python 라이브러리들이 NumPy를 기반으로 작성되고 있기 때문이다.\n"
   ]
  },
  {
   "cell_type": "code",
   "execution_count": 1,
   "metadata": {
    "collapsed": true
   },
   "outputs": [],
   "source": [
    "import numpy as np # numpy 모듈의 별명은 관례적으로 np를 붙인다."
   ]
  },
  {
   "cell_type": "code",
   "execution_count": 2,
   "metadata": {
    "collapsed": false
   },
   "outputs": [
    {
     "data": {
      "text/plain": [
       "'1.9.2'"
      ]
     },
     "execution_count": 2,
     "metadata": {},
     "output_type": "execute_result"
    }
   ],
   "source": [
    "np.version.version # version 확인"
   ]
  },
  {
   "cell_type": "code",
   "execution_count": 3,
   "metadata": {
    "collapsed": false
   },
   "outputs": [
    {
     "name": "stdout",
     "output_type": "stream",
     "text": [
      "[ 0.  0.  0.  0.  0.  0.  0.  0.  0.  0.]\n"
     ]
    }
   ],
   "source": [
    "vec = np.zeros((10, ), dtype=np.double) # 벡터 만들기\n",
    "print vec"
   ]
  },
  {
   "cell_type": "code",
   "execution_count": 4,
   "metadata": {
    "collapsed": false,
    "scrolled": true
   },
   "outputs": [
    {
     "name": "stdout",
     "output_type": "stream",
     "text": [
      "[[ 0.  0.  0.]\n",
      " [ 0.  0.  0.]\n",
      " [ 0.  0.  0.]]\n"
     ]
    }
   ],
   "source": [
    "mat_d = np.zeros((3, 3), dtype=np.double) # 행렬 만들기\n",
    "print mat_d"
   ]
  },
  {
   "cell_type": "code",
   "execution_count": 5,
   "metadata": {
    "collapsed": false
   },
   "outputs": [
    {
     "name": "stdout",
     "output_type": "stream",
     "text": [
      "1\n",
      "(10L,)\n",
      "2\n",
      "(3L, 3L)\n"
     ]
    }
   ],
   "source": [
    "# dimension and shape of the numpy array\n",
    "print vec.ndim \n",
    "print vec.shape\n",
    "print mat_d.ndim\n",
    "print mat_d.shape"
   ]
  },
  {
   "cell_type": "code",
   "execution_count": 6,
   "metadata": {
    "collapsed": false
   },
   "outputs": [
    {
     "name": "stdout",
     "output_type": "stream",
     "text": [
      "[[ 1.  0.  0.]\n",
      " [ 0.  0.  0.]\n",
      " [ 0.  0.  0.]]\n"
     ]
    }
   ],
   "source": [
    "mat_d[0, 0] = 1 # 특정 원소의 값 변경하기\n",
    "print mat_d"
   ]
  },
  {
   "cell_type": "code",
   "execution_count": 7,
   "metadata": {
    "collapsed": false
   },
   "outputs": [
    {
     "name": "stdout",
     "output_type": "stream",
     "text": [
      "[[ 1.  1.  1.]\n",
      " [ 0.  0.  0.]\n",
      " [ 0.  0.  0.]]\n",
      "\n",
      "[[ 2.  1.  1.]\n",
      " [ 2.  0.  0.]\n",
      " [ 2.  0.  0.]]\n"
     ]
    }
   ],
   "source": [
    "# 특정 열 또는 행의 값을 변경하기\n",
    "mat_d[0, :] = 1 # 행 전체에 동일한 값 대입\n",
    "print mat_d\n",
    "print\n",
    "mat_d[:, 0] = 2 # 열 전체에 동일한 값 대입\n",
    "print mat_d"
   ]
  },
  {
   "cell_type": "code",
   "execution_count": 8,
   "metadata": {
    "collapsed": false
   },
   "outputs": [
    {
     "name": "stdout",
     "output_type": "stream",
     "text": [
      "[[ 0.  0.]\n",
      " [ 0.  0.]]\n",
      "[[ 2.  1.  1.]\n",
      " [ 2.  7.  7.]\n",
      " [ 2.  7.  7.]]\n"
     ]
    }
   ],
   "source": [
    "print mat_d[1:, 1:]\n",
    "mat_d[1:, 1:] = 7 # 특정 열 또는 행의 값을 변경하기\n",
    "print mat_d"
   ]
  },
  {
   "cell_type": "code",
   "execution_count": 9,
   "metadata": {
    "collapsed": false
   },
   "outputs": [
    {
     "name": "stdout",
     "output_type": "stream",
     "text": [
      "[[0 0 0]\n",
      " [0 0 0]\n",
      " [0 0 0]]\n"
     ]
    }
   ],
   "source": [
    "mat_i = np.zeros((3, 3), dtype=np.int)\n",
    "print mat_i"
   ]
  },
  {
   "cell_type": "code",
   "execution_count": 10,
   "metadata": {
    "collapsed": false,
    "scrolled": true
   },
   "outputs": [
    {
     "name": "stdout",
     "output_type": "stream",
     "text": [
      "[[0 0 0]\n",
      " [0 3 0]\n",
      " [0 0 0]]\n",
      "Integer type division 4/3 =  1\n"
     ]
    }
   ],
   "source": [
    "mat_i[1, 1] = 3.8\n",
    "print mat_i\n",
    "\n",
    "print \"Integer type division 4/3 = \", 4/3"
   ]
  },
  {
   "cell_type": "markdown",
   "metadata": {},
   "source": [
    "----\n",
    "mat_i가 정수형 행렬이기 때문에 실수형 값을 대입하니 자동으로 형변환이 일어났다; mat_i[1, 1]에 3.8이 저장될 때 소수점 이하 정보는 사라졌다. 정수형 나눗셈에서 소수점 이하는 모두 생략되는 것과 비슷한 원리라고 보면 된다.\n",
    "\n",
    "----"
   ]
  },
  {
   "cell_type": "markdown",
   "metadata": {},
   "source": [
    "# Shallow copy vs Deep copy\n",
    "----"
   ]
  },
  {
   "cell_type": "code",
   "execution_count": 11,
   "metadata": {
    "collapsed": false
   },
   "outputs": [
    {
     "name": "stdout",
     "output_type": "stream",
     "text": [
      "mat_cp(before assignment): \n",
      "[[ 2.  1.  1.]\n",
      " [ 2.  7.  7.]\n",
      " [ 2.  7.  7.]]\n",
      "mat_d(before assignment): \n",
      "[[ 2.  1.  1.]\n",
      " [ 2.  7.  7.]\n",
      " [ 2.  7.  7.]]\n",
      "\n",
      "mat_cp(after assignment): \n",
      "[[   2.    1.    1.]\n",
      " [   2.    7.    7.]\n",
      " [   2.    7.  999.]]\n",
      "mat_d(after assignment): \n",
      "[[   2.    1.    1.]\n",
      " [   2.    7.    7.]\n",
      " [   2.    7.  999.]]\n"
     ]
    }
   ],
   "source": [
    "mat_cp = mat_d\n",
    "print \"mat_cp(before assignment): \\n\", mat_cp\n",
    "print \"mat_d(before assignment): \\n\", mat_d\n",
    "mat_cp[-1, -1] = 999\n",
    "print\n",
    "print \"mat_cp(after assignment): \\n\", mat_cp\n",
    "print \"mat_d(after assignment): \\n\", mat_d"
   ]
  },
  {
   "cell_type": "markdown",
   "metadata": {},
   "source": [
    "----\n",
    "위와 같이 mat_cp만 조작하였는데도 불구하고 mat_d의 값도 변경된 것처럼 나타난 이유는, Python에서 '='(assignment) 연산자는 객체에 대한 참조(reference)이기 때문이다. 즉, mat_cp는 '=' 연산에 의해, mat_d가 '참조'하고 있는 NumPy 객체를 함께 참조하게 되었을 뿐이다. 이를 **[shallow copy](http://en.wikipedia.org/wiki/Object_copy)**라고 한다.\n",
    "\n",
    "복사본을 만들기 원한다면, 메모리에 객체를 새로 할당해 주는 연산을 이용해야 하는데, NumPy에서는 copy함수를 제공한다.\n",
    "\n",
    "----"
   ]
  },
  {
   "cell_type": "code",
   "execution_count": 12,
   "metadata": {
    "collapsed": false
   },
   "outputs": [
    {
     "name": "stdout",
     "output_type": "stream",
     "text": [
      "[[   2.    1.    1.]\n",
      " [   2.    7.    7.]\n",
      " [   2.    7.  999.]]\n"
     ]
    }
   ],
   "source": [
    "mat_cp = mat_d.copy() # mat_d와 동일한 값을 갖는 복사본 객체를 생성하고, 생성된 객체를 mat_cp가 참조하도록 한다.\n",
    "print mat_cp"
   ]
  },
  {
   "cell_type": "code",
   "execution_count": 13,
   "metadata": {
    "collapsed": false
   },
   "outputs": [
    {
     "name": "stdout",
     "output_type": "stream",
     "text": [
      "mat_cp(before assignment): \n",
      "[[   2.    1.    1.]\n",
      " [   2.    7.    7.]\n",
      " [   2.    7.  999.]]\n",
      "mat_d(before assignment): \n",
      "[[   2.    1.    1.]\n",
      " [   2.    7.    7.]\n",
      " [   2.    7.  999.]]\n",
      "\n",
      "mat_cp(after assignment): \n",
      "[[   2.    1.    1.]\n",
      " [   2.    7.    7.]\n",
      " [   2.    7.  777.]]\n",
      "mat_d(after assignment): \n",
      "[[   2.    1.    1.]\n",
      " [   2.    7.    7.]\n",
      " [   2.    7.  999.]]\n"
     ]
    }
   ],
   "source": [
    "print \"mat_cp(before assignment): \\n\", mat_cp\n",
    "print \"mat_d(before assignment): \\n\", mat_d\n",
    "mat_cp[-1, -1] = 777\n",
    "print\n",
    "print \"mat_cp(after assignment): \\n\", mat_cp\n",
    "print \"mat_d(after assignment): \\n\", mat_d"
   ]
  },
  {
   "cell_type": "markdown",
   "metadata": {},
   "source": [
    "----\n",
    "위에서 볼 수 있듯이, mat_cp의 값을 변경했음에도 불구하고 이전과 달리 mat_d의 값은 변하지 않은 것을 확인할 수 있다.\n",
    "\n",
    "----"
   ]
  },
  {
   "cell_type": "markdown",
   "metadata": {},
   "source": [
    "# 수열(number sequence) 생성하기\n",
    "----"
   ]
  },
  {
   "cell_type": "code",
   "execution_count": 14,
   "metadata": {
    "collapsed": false
   },
   "outputs": [
    {
     "name": "stdout",
     "output_type": "stream",
     "text": [
      "[0 1 2 3 4 5 6 7 8 9]\n",
      "[ 2  4  6  8 10 12 14 16 18]\n",
      "[ 0.    0.25  0.5   0.75  1.    1.25  1.5   1.75]\n"
     ]
    }
   ],
   "source": [
    "print np.arange(10) # 0부터 10까지 생성하되 10은 포함하지 않는다\n",
    "print np.arange(2, 20, 2) # 2부터 20까지 생성하되 20은 포함하지 않고, 2씩 증가\n",
    "print np.arange(0, 2, 0.25) # 0부터 2까지 생성하되 2는 포함하지 않고, 0.25씩 증가"
   ]
  },
  {
   "cell_type": "code",
   "execution_count": 15,
   "metadata": {
    "collapsed": false
   },
   "outputs": [
    {
     "name": "stdout",
     "output_type": "stream",
     "text": [
      "[  0.           1.11111111   2.22222222   3.33333333   4.44444444\n",
      "   5.55555556   6.66666667   7.77777778   8.88888889  10.        ]\n",
      "[-1.  -0.5  0.   0.5  1. ]\n",
      "[  0.1          0.31622777   1.           3.16227766  10.        ]\n"
     ]
    }
   ],
   "source": [
    "print np.linspace(0, 10, 10) # 0부터 10까지 생성하되 10을 포함하여 10개의 수를 생성\n",
    "print np.linspace(-1, 1, 5) # -1부터 1까지 생성하되 1을 포함하여, 5개의 수를 생성\n",
    "print 10**np.linspace(-1, 1, 5)"
   ]
  }
 ],
 "metadata": {
  "kernelspec": {
   "display_name": "Python 2",
   "language": "python",
   "name": "python2"
  },
  "language_info": {
   "codemirror_mode": {
    "name": "ipython",
    "version": 2
   },
   "file_extension": ".py",
   "mimetype": "text/x-python",
   "name": "python",
   "nbconvert_exporter": "python",
   "pygments_lexer": "ipython2",
   "version": "2.7.7"
  }
 },
 "nbformat": 4,
 "nbformat_minor": 0
}
